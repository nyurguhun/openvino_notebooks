{
 "cells": [
  {
   "cell_type": "markdown",
   "id": "79bab4a1",
   "metadata": {},
   "source": [
    "# Send gRPC and API Calls via Python Scripts to OpenVINO Model Server in OpenShift \n",
    "\n",
    "We will show you how to deploy an OpenVINO Model Server (OVMS) service in an OpenShift cluster. Then, we will send gRPC and REST API calls to the AI inference service by invoking Python scripts.\n",
    "\n",
    "Requirements:\n",
    "- OpenShift cluster with the API access to a project\n",
    "- installed [OpenVINO Model Server Operator](https://catalog.redhat.com/software/operators/search?q=openvino)\n",
    "- JupyterLab environment with Python3 deployed in the cluster\n",
    "\n",
    "If you don't have an OpenShift account, you can sign up for 30 or 60 day [free trial of Red Hat OpenShift](https://www.openshift.com/try)."
   ]
  },
  {
   "cell_type": "markdown",
   "id": "b98e1928",
   "metadata": {},
   "source": [
    "## Login to OpenShift with API Token\n",
    "\n",
    "First, let's login to OpenShift cluster using `oc` tool. \n",
    "\n",
    "In the Red Hat OpenShift console, click on your username and select `Copy login command`.\n",
    "\n",
    "![copy-login.png](notebook-files/copy-login.png)\n",
    "\n",
    "Click on `Display Token` and your API token will appear.\n",
    "\n",
    "![log-in-with-token.png](notebook-files/log-in-with-token.png)\n",
    "\n",
    "Copy `Log in with token` command and paste it in the cell below. The command has your `<user-API-token>` and `<cluster-DNS-name>`."
   ]
  },
  {
   "cell_type": "code",
   "execution_count": null,
   "id": "8b048959",
   "metadata": {},
   "outputs": [],
   "source": [
    "!oc login --token=<user-API-token> --server=https://api.<cluster-DNS-name>:6443"
   ]
  },
  {
   "cell_type": "markdown",
   "id": "3f5e108e",
   "metadata": {},
   "source": [
    "Create `ovms-operator` project and go to this project."
   ]
  },
  {
   "cell_type": "code",
   "execution_count": null,
   "id": "e08aff61",
   "metadata": {},
   "outputs": [],
   "source": [
    "!oc new-project ovms-operator \n",
    "!oc project ovms-operator"
   ]
  },
  {
   "cell_type": "markdown",
   "id": "39149332",
   "metadata": {},
   "source": [
    "## Deploy an OVMS Service\n"
   ]
  },
  {
   "cell_type": "markdown",
   "id": "4ab24362",
   "metadata": {},
   "source": [
    "Here's the yaml used to configure the OVMS service. We specified `name` to be `ovms-resnet` and `model_path` to be `gs://ovms-public-eu/resnet50-binary`. Also, we defined `model_name` here; we will use this value for gRPC and REST API calls."
   ]
  },
  {
   "cell_type": "code",
   "execution_count": null,
   "id": "61472d0b",
   "metadata": {},
   "outputs": [],
   "source": [
    "!cat ovms.yaml"
   ]
  },
  {
   "cell_type": "markdown",
   "id": "dd704865",
   "metadata": {},
   "source": [
    "Run the cell below to create new OVMS service called `ovms-resnet`."
   ]
  },
  {
   "cell_type": "code",
   "execution_count": null,
   "id": "d683486f",
   "metadata": {},
   "outputs": [],
   "source": [
    "!oc apply -f ovms.yaml"
   ]
  },
  {
   "cell_type": "markdown",
   "id": "67a08105",
   "metadata": {},
   "source": [
    "Let's see if pod and service were created. They should start with `ovms-resnet`."
   ]
  },
  {
   "cell_type": "code",
   "execution_count": null,
   "id": "0c928e43",
   "metadata": {},
   "outputs": [],
   "source": [
    "!oc get pod\n",
    "!oc get service"
   ]
  },
  {
   "cell_type": "markdown",
   "id": "d510003d",
   "metadata": {},
   "source": [
    "Check if the service is up and running by making a REST API call."
   ]
  },
  {
   "cell_type": "code",
   "execution_count": null,
   "id": "f7f18abf",
   "metadata": {},
   "outputs": [],
   "source": [
    "!curl http://ovms-resnet.ovms-operator.svc.cluster.local:8081/v1/models/resnet"
   ]
  },
  {
   "cell_type": "markdown",
   "id": "7717c653",
   "metadata": {},
   "source": [
    "The `state` parameter should be `AVAILABLE`. Note `version` value, we will use it for gRPC and REST API calls. "
   ]
  },
  {
   "cell_type": "markdown",
   "id": "7d5e8a46",
   "metadata": {},
   "source": [
    "## gRPC API Calls\n",
    "\n",
    "In this section, we will make gRPC API calls to the OVMS service using sample scripts.\n",
    "\n",
    "To run sample scripts, we will need to get the serving metadata. `get_serving_meta.py` script has the following arguments:\n",
    "* **--grpc_address**  \n",
    "* **--grpc_port**\n",
    "* **--model_name**\n",
    "* **--model_version**\n",
    "\n",
    "Run the cell to get the metadata."
   ]
  },
  {
   "cell_type": "code",
   "execution_count": null,
   "id": "84c25626",
   "metadata": {},
   "outputs": [],
   "source": [
    "!python get_serving_meta.py --grpc_address ovms-resnet.ovms-operator.svc.cluster.local \\\n",
    "                            --grpc_port 8080 \\\n",
    "                            --model_name resnet \\\n",
    "                            --model_version 1"
   ]
  },
  {
   "cell_type": "markdown",
   "id": "65fc5300",
   "metadata": {},
   "source": [
    "For the `jpeg_classificaion.py` script, we specified `--input_name` and `--output_name` arguments, from the metadata output. However, we omitted the `--images_list` argument because we used the default value, `input_images.txt`. \n",
    "\n",
    "Let's see what's in that file."
   ]
  },
  {
   "cell_type": "code",
   "execution_count": null,
   "id": "3615d683",
   "metadata": {},
   "outputs": [],
   "source": [
    "!cat input_images.txt"
   ]
  },
  {
   "cell_type": "markdown",
   "id": "fb1e1589",
   "metadata": {},
   "source": [
    "As you can see, `input_images.txt` contains paths to images and [class ids](classes.py)."
   ]
  },
  {
   "cell_type": "markdown",
   "id": "af990008",
   "metadata": {},
   "source": [
    "Run a classification inference on list of images, listed in `input_images.txt`."
   ]
  },
  {
   "cell_type": "code",
   "execution_count": null,
   "id": "d5a40c1c",
   "metadata": {},
   "outputs": [],
   "source": [
    "!python3 jpeg_classification.py --grpc_address ovms-resnet.ovms-operator.svc.cluster.local \\\n",
    "                                --grpc_port 8080 \\\n",
    "                                --input_name 0 \\\n",
    "                                --output_name 1463 \\\n",
    "                                --images_list input_images.txt"
   ]
  },
  {
   "cell_type": "markdown",
   "id": "b7e5ee38",
   "metadata": {},
   "source": [
    "Let's try another script, `grpc_serving_client.py`. It accepts NumPy array as an input for `--images_numpy_path` argument. We will also add `labels_numpy_path`, so we can see if the OVMS service labeled the objects correctly. "
   ]
  },
  {
   "cell_type": "code",
   "execution_count": null,
   "id": "d6ddb478",
   "metadata": {},
   "outputs": [],
   "source": [
    "!python3 grpc_serving_client.py \\\n",
    "        --grpc_address ovms-resnet.ovms-operator.svc.cluster.local \\\n",
    "        --grpc_port 8080 \\\n",
    "        --input_name 0 \\\n",
    "        --output_name 1463 \\\n",
    "        --images_numpy_path imgs.npy \\\n",
    "        --labels_numpy_path lbs.npy \\\n",
    "        --transpose_input False "
   ]
  },
  {
   "cell_type": "markdown",
   "id": "13e99f67",
   "metadata": {},
   "source": [
    "## REST API Calls\n",
    "\n",
    "In this section, we will make REST API calls to the OVMS service using sample scripts. We will use port `8081` as `--rest_port`, as we specified in the `ovms.yaml` when we created the OVMS service.\n",
    "\n",
    "Run the cell below to get the model status."
   ]
  },
  {
   "cell_type": "code",
   "execution_count": null,
   "id": "ca38a3ed",
   "metadata": {},
   "outputs": [],
   "source": [
    "!python rest_get_model_status.py --rest_url http://ovms-resnet.ovms-operator.svc.cluster.local \\\n",
    "                                 --rest_port 8081 \\\n",
    "                                 --model_name resnet"
   ]
  },
  {
   "cell_type": "markdown",
   "id": "3fb53c38",
   "metadata": {},
   "source": [
    "Run the cell below to get serving metadata."
   ]
  },
  {
   "cell_type": "code",
   "execution_count": null,
   "id": "bebc84cc",
   "metadata": {},
   "outputs": [],
   "source": [
    "!python rest_get_serving_meta.py --rest_url http://ovms-resnet.ovms-operator.svc.cluster.local \\\n",
    "                                 --rest_port 8081 \\\n",
    "                                 --model_name resnet"
   ]
  },
  {
   "cell_type": "markdown",
   "id": "4729a7fc",
   "metadata": {},
   "source": [
    "Let's run `rest_serving_client.py` script. It takes `--images_numpy_path` and `--labels_numpy_path` as an input. The script return the same output as `grpc_serving_client.py`."
   ]
  },
  {
   "cell_type": "code",
   "execution_count": null,
   "id": "17906ad6",
   "metadata": {},
   "outputs": [],
   "source": [
    "!python rest_serving_client.py --rest_url http://ovms-resnet.ovms-operator.svc.cluster.local \\\n",
    "                               --rest_port 8081 \\\n",
    "                               --model_name resnet \\\n",
    "                               --input_name 0 \\\n",
    "                               --output_name 1463 \\\n",
    "                               --images_numpy_path imgs.npy \\\n",
    "                               --labels_numpy_path lbs.npy \\\n",
    "                               --transpose_input False                "
   ]
  },
  {
   "cell_type": "markdown",
   "id": "b6a02f30",
   "metadata": {},
   "source": [
    "## Cleanup\n",
    "\n",
    "Let's free up resources."
   ]
  },
  {
   "cell_type": "code",
   "execution_count": null,
   "id": "45548e59",
   "metadata": {},
   "outputs": [],
   "source": [
    "!oc delete ovms ovms-resnet"
   ]
  },
  {
   "cell_type": "markdown",
   "id": "3d03c9fe",
   "metadata": {},
   "source": [
    "## Next Steps\n",
    "\n",
    "In this notebook, you have learned how to run image classification requests with Python scripts. Next, you can explore other OpenShift OVMS notebooks:\n",
    "\n",
    "- [Deploy Image Classification with OpenVINO Model Server in OpenShift](../401-model-serving-openshift-resnet/ovms-openshift-resnet.ipynb)\n",
    "- [Face Detection Multi Model OpenVINO Model Server Deployment in OpenShift](../403-model-serving-openshift-face-detection-dag/ovms-openshift-face-detection-dag.ipynb)"
   ]
  }
 ],
 "metadata": {
  "kernelspec": {
   "display_name": "Python 3",
   "language": "python",
   "name": "python3"
  },
  "language_info": {
   "codemirror_mode": {
    "name": "ipython",
    "version": 3
   },
   "file_extension": ".py",
   "mimetype": "text/x-python",
   "name": "python",
   "nbconvert_exporter": "python",
   "pygments_lexer": "ipython3",
   "version": "3.8.3"
  }
 },
 "nbformat": 4,
 "nbformat_minor": 5
}
