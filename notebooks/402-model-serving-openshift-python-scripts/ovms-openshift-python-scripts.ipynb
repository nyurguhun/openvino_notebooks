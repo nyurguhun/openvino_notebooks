{
 "cells": [
  {
   "cell_type": "markdown",
   "id": "41cec9b7",
   "metadata": {},
   "source": [
    "# Send gRPC and API Calls via Python Scripts to OpenVINO Model Server in OpenShift \n",
    "\n",
    "We will show you how to deploy an OpenVINO Model Server (OVMS) service in an OpenShift cluster. Then, we will send gRPC and REST API calls to the AI inference service by invoking Python scripts.\n",
    "\n",
    "Requirements:\n",
    "- OpenShift cluster with the API access to a project\n",
    "- installed [OpenVINO Model Server Operator](https://catalog.redhat.com/software/operators/search?q=openvino)\n",
    "- JupyterLab environment with Python3 deployed in the cluster\n",
    "\n",
    "If you don't have an OpenShift account, you can sign up for 30 or 60 day [free trial of Red Hat OpenShift](https://www.openshift.com/try)."
   ]
  },
  {
   "cell_type": "markdown",
   "id": "afe9acdd",
   "metadata": {},
   "source": [
    "## Login to OpenShift with API Token\n",
    "\n",
    "First, let's login to OpenShift cluster using `oc` tool. \n",
    "\n",
    "In the Red Hat OpenShift console, click on your username and select `Copy login command`.\n",
    "\n",
    "![copy-login.png](notebook-files/copy-login.png)\n",
    "\n",
    "Click on `Display Token` and your API token will appear.\n",
    "\n",
    "![log-in-with-token.png](notebook-files/log-in-with-token.png)\n",
    "\n",
    "Copy `Log in with token` command and paste it in the cell below. The command has your `<user-API-token>` and `<cluster-DNS-name>`."
   ]
  },
  {
   "cell_type": "code",
   "execution_count": 1,
   "id": "bf1de425",
   "metadata": {},
   "outputs": [
    {
     "name": "stdout",
     "output_type": "stream",
     "text": [
      "Logged into \"https://api.openvino5.3q12.p1.openshiftapps.com:6443\" as \"nyurguhun\" using the token provided.\n",
      "\n",
      "You have access to the following projects and can switch between them with 'oc project <projectname>':\n",
      "\n",
      "  * ovms\n",
      "    rose-jh\n",
      "\n",
      "Using project \"ovms\".\n"
     ]
    }
   ],
   "source": [
    "!oc login --token=<user-API-token> --server=https://api.<cluster-DNS-name>:6443"
   ]
  },
  {
   "cell_type": "markdown",
   "id": "d3bcddde",
   "metadata": {},
   "source": [
    "Create `ovms` project and go to this project."
   ]
  },
  {
   "cell_type": "code",
   "execution_count": 2,
   "id": "26045219",
   "metadata": {},
   "outputs": [
    {
     "name": "stdout",
     "output_type": "stream",
     "text": [
      "Error from server (AlreadyExists): project.project.openshift.io \"ovms\" already exists\n",
      "Already on project \"ovms\" on server \"https://api.openvino5.3q12.p1.openshiftapps.com:6443\".\n"
     ]
    }
   ],
   "source": [
    "!oc new-project ovms\n",
    "!oc project ovms"
   ]
  },
  {
   "cell_type": "markdown",
   "id": "388d35a9",
   "metadata": {},
   "source": [
    "## Deploy an OVMS Service\n"
   ]
  },
  {
   "cell_type": "markdown",
   "id": "34073344",
   "metadata": {},
   "source": [
    "Here's the yaml used to configure the OVMS service. We specified `name` to be `ovms-resnet` and `model_path` to be `gs://ovms-public-eu/resnet50-binary`. Also, we defined `model_name` here; we will use this value for gRPC and REST API calls."
   ]
  },
  {
   "cell_type": "code",
   "execution_count": 3,
   "id": "dbdc16f5",
   "metadata": {},
   "outputs": [
    {
     "name": "stdout",
     "output_type": "stream",
     "text": [
      "apiVersion: intel.com/v1alpha1\n",
      "kind: Ovms\n",
      "metadata:\n",
      "  name: ovms-resnet\n",
      "spec:\n",
      "  grpc_port: 8080\n",
      "  image_name: registry.connect.redhat.com/intel/openvino-model-server:latest\n",
      "  log_level: INFO\n",
      "  model_name: \"resnet\"\n",
      "  model_path: \"gs://ovms-public-eu/resnet50-binary\"\n",
      "  plugin_config: '{\\\"CPU_THROUGHPUT_STREAMS\\\":\\\"1\\\"}'\n",
      "  replicas: 1\n",
      "  resources:\n",
      "    limits:\n",
      "      cpu: 4\n",
      "      memory: 500Mi\n",
      "  rest_port: 8081\n",
      "  service_type: ClusterIP"
     ]
    }
   ],
   "source": [
    "!cat ovms.yaml"
   ]
  },
  {
   "cell_type": "markdown",
   "id": "7eb40a4f",
   "metadata": {},
   "source": [
    "Run the cell below to create new OVMS service called `ovms-resnet`."
   ]
  },
  {
   "cell_type": "code",
   "execution_count": 4,
   "id": "fab7ba70",
   "metadata": {},
   "outputs": [
    {
     "name": "stdout",
     "output_type": "stream",
     "text": [
      "ovms.intel.com/ovms-resnet created\n"
     ]
    }
   ],
   "source": [
    "!oc apply -f ovms.yaml"
   ]
  },
  {
   "cell_type": "markdown",
   "id": "39eca392",
   "metadata": {},
   "source": [
    "It takes around 15 seconds to create a pod and a service. They should start with `ovms-resnet`."
   ]
  },
  {
   "cell_type": "code",
   "execution_count": 11,
   "id": "c90f4d76",
   "metadata": {},
   "outputs": [
    {
     "name": "stdout",
     "output_type": "stream",
     "text": [
      "NAME                           READY     STATUS    RESTARTS   AGE\n",
      "ovms-resnet-5fd9cd8b86-bf8t4   1/1       Running   0          21s\n",
      "NAME          TYPE        CLUSTER-IP     EXTERNAL-IP   PORT(S)             AGE\n",
      "ovms-resnet   ClusterIP   172.30.95.44   <none>        8080/TCP,8081/TCP   22s\n"
     ]
    }
   ],
   "source": [
    "!oc get pod\n",
    "!oc get service"
   ]
  },
  {
   "cell_type": "markdown",
   "id": "94db125b",
   "metadata": {},
   "source": [
    "Check if the service is up and running by making a REST API call."
   ]
  },
  {
   "cell_type": "code",
   "execution_count": 12,
   "id": "658b4c30",
   "metadata": {},
   "outputs": [
    {
     "name": "stdout",
     "output_type": "stream",
     "text": [
      "{\n",
      " \"model_version_status\": [\n",
      "  {\n",
      "   \"version\": \"1\",\n",
      "   \"state\": \"AVAILABLE\",\n",
      "   \"status\": {\n",
      "    \"error_code\": \"OK\",\n",
      "    \"error_message\": \"OK\"\n",
      "   }\n",
      "  }\n",
      " ]\n",
      "}\n"
     ]
    }
   ],
   "source": [
    "!curl http://ovms-resnet.ovms.svc.cluster.local:8081/v1/models/resnet"
   ]
  },
  {
   "cell_type": "markdown",
   "id": "396e28b5",
   "metadata": {},
   "source": [
    "The `state` parameter should be `AVAILABLE`. Note `version` value, we will use it for gRPC and REST API calls. "
   ]
  },
  {
   "cell_type": "markdown",
   "id": "4cc34609",
   "metadata": {},
   "source": [
    "## gRPC API Calls\n",
    "\n",
    "In this section, we will make gRPC API calls to the OVMS service using sample scripts.\n",
    "\n",
    "To run sample scripts, we will need to get the serving metadata. `get_serving_meta.py` script has the following arguments:\n",
    "* **--grpc_address**  \n",
    "* **--grpc_port**\n",
    "* **--model_name**\n",
    "* **--model_version**\n",
    "\n",
    "Run the cell to get the metadata."
   ]
  },
  {
   "cell_type": "code",
   "execution_count": 13,
   "id": "b8697a76",
   "metadata": {},
   "outputs": [
    {
     "name": "stdout",
     "output_type": "stream",
     "text": [
      "2021-05-12 16:25:16.043692: W tensorflow/stream_executor/platform/default/dso_loader.cc:60] Could not load dynamic library 'libcudart.so.11.0'; dlerror: libcudart.so.11.0: cannot open shared object file: No such file or directory\n",
      "2021-05-12 16:25:16.043730: I tensorflow/stream_executor/cuda/cudart_stub.cc:29] Ignore above cudart dlerror if you do not have a GPU set up on your machine.\n",
      "Getting model metadata for model: resnet\n",
      "Inputs metadata:\n",
      "\tInput name: 0; shape: [1, 3, 224, 224]; dtype: DT_FLOAT\n",
      "Outputs metadata:\n",
      "\tOutput name: 1463; shape: [1, 1000]; dtype: DT_FLOAT\n"
     ]
    }
   ],
   "source": [
    "!python get_serving_meta.py --grpc_address ovms-resnet.ovms.svc.cluster.local \\\n",
    "                            --grpc_port 8080 \\\n",
    "                            --model_name resnet \\\n",
    "                            --model_version 1"
   ]
  },
  {
   "cell_type": "markdown",
   "id": "9f8b27f6",
   "metadata": {},
   "source": [
    "For the `jpeg_classificaion.py` script, we specified `--input_name` and `--output_name` arguments, from the metadata output. \n",
    "\n",
    "Let's see what's in `input_images.txt` file. We will use for `--images_list` argument."
   ]
  },
  {
   "cell_type": "code",
   "execution_count": 14,
   "id": "40975f1f",
   "metadata": {},
   "outputs": [
    {
     "name": "stdout",
     "output_type": "stream",
     "text": [
      "    images/airliner.jpeg 404\n",
      "    images/arctic-fox.jpeg 279\n",
      "    images/bee.jpeg 309\n",
      "    images/golden_retriever.jpeg 207\n",
      "    images/gorilla.jpeg 366\n",
      "    images/magnetic_compass.jpeg 635\n",
      "    images/peacock.jpeg 84\n",
      "    images/pelican.jpeg 144\n",
      "    images/snail.jpeg 113\n",
      "    images/zebra.jpeg 340\n"
     ]
    }
   ],
   "source": [
    "!cat input_images.txt"
   ]
  },
  {
   "cell_type": "markdown",
   "id": "fb2427c9",
   "metadata": {},
   "source": [
    "As you can see, `input_images.txt` contains paths to images and [class ids](classes.py)."
   ]
  },
  {
   "cell_type": "markdown",
   "id": "d7a6de1a",
   "metadata": {},
   "source": [
    "Run a classification inference on list of images, listed in `input_images.txt`."
   ]
  },
  {
   "cell_type": "code",
   "execution_count": 15,
   "id": "a9d46983",
   "metadata": {},
   "outputs": [
    {
     "name": "stdout",
     "output_type": "stream",
     "text": [
      "2021-05-12 16:25:27.083866: W tensorflow/stream_executor/platform/default/dso_loader.cc:60] Could not load dynamic library 'libcudart.so.11.0'; dlerror: libcudart.so.11.0: cannot open shared object file: No such file or directory\n",
      "2021-05-12 16:25:27.083904: I tensorflow/stream_executor/cuda/cudart_stub.cc:29] Ignore above cudart dlerror if you do not have a GPU set up on your machine.\n",
      "\n",
      "Processing results.\n",
      "Model name: resnet\n",
      "Images list file: input_images.txt\n",
      "\n",
      "Inference Results:\n",
      "\n",
      "1. Correct classification: airliner\n",
      "Processing time: 13.62 ms; speed: 73.41 fps\n",
      "\n",
      "2. Correct classification: Arctic fox, white fox, Alopex lagopus\n",
      "Processing time: 5.51 ms; speed: 181.52 fps\n",
      "\n",
      "3. Correct classification: bee\n",
      "Processing time: 5.04 ms; speed: 198.53 fps\n",
      "\n",
      "4. Correct classification: golden retriever\n",
      "Processing time: 5.20 ms; speed: 192.46 fps\n",
      "\n",
      "5. Correct classification: gorilla, Gorilla gorilla\n",
      "Processing time: 5.20 ms; speed: 192.42 fps\n",
      "\n",
      "6. Correct classification: magnetic compass\n",
      "Processing time: 5.87 ms; speed: 170.27 fps\n",
      "\n",
      "7. Correct classification: peacock\n",
      "Processing time: 4.81 ms; speed: 207.86 fps\n",
      "\n",
      "8. Correct classification: pelican\n",
      "Processing time: 5.36 ms; speed: 186.74 fps\n",
      "\n",
      "9. Correct classification: snail\n",
      "Processing time: 68.46 ms; speed: 14.61 fps\n",
      "\n",
      "10. Correct classification: zebra\n",
      "Processing time: 5.22 ms; speed: 191.42 fps\n",
      "\n",
      "Overall accuracy= 100.0 %\n",
      "Average latency= 12.0 ms\n"
     ]
    }
   ],
   "source": [
    "!python3 jpeg_classification.py --grpc_address ovms-resnet.ovms.svc.cluster.local \\\n",
    "                                --grpc_port 8080 \\\n",
    "                                --input_name 0 \\\n",
    "                                --output_name 1463 \\\n",
    "                                --images_list input_images.txt"
   ]
  },
  {
   "cell_type": "markdown",
   "id": "df8c1a13",
   "metadata": {},
   "source": [
    "Let's try another script, `grpc_serving_client.py`. It accepts NumPy array as an input for `--images_numpy_path` argument. We will also add `labels_numpy_path`, so we can see if the OVMS service labeled the objects correctly. "
   ]
  },
  {
   "cell_type": "code",
   "execution_count": 16,
   "id": "dd4ab6df",
   "metadata": {},
   "outputs": [
    {
     "name": "stdout",
     "output_type": "stream",
     "text": [
      "2021-05-12 16:25:30.951862: W tensorflow/stream_executor/platform/default/dso_loader.cc:60] Could not load dynamic library 'libcudart.so.11.0'; dlerror: libcudart.so.11.0: cannot open shared object file: No such file or directory\n",
      "2021-05-12 16:25:30.951896: I tensorflow/stream_executor/cuda/cudart_stub.cc:29] Ignore above cudart dlerror if you do not have a GPU set up on your machine.\n",
      "Image data range: 0.0 : 255.0\n",
      "Start processing.\n",
      "\tModel name: resnet\n",
      "\tIterations: 10\n",
      "\tImages numpy path: imgs.npy\n",
      "\tImages in shape: (10, 3, 224, 224)\n",
      "\n",
      "1. airliner; Correct match.\n",
      "Processing time: 7.33 ms; speed: 136.35 fps\n",
      "\n",
      "2. Arctic fox, white fox, Alopex lagopus; Correct match.\n",
      "Processing time: 5.38 ms; speed: 185.77 fps\n",
      "\n",
      "3. bee; Correct match.\n",
      "Processing time: 4.97 ms; speed: 201.37 fps\n",
      "\n",
      "4. golden retriever; Correct match.\n",
      "Processing time: 4.65 ms; speed: 215.05 fps\n",
      "\n",
      "5. gorilla, Gorilla gorilla; Correct match.\n",
      "Processing time: 4.43 ms; speed: 225.78 fps\n",
      "\n",
      "6. magnetic compass; Correct match.\n",
      "Processing time: 63.04 ms; speed: 15.86 fps\n",
      "\n",
      "7. peacock; Correct match.\n",
      "Processing time: 4.94 ms; speed: 202.51 fps\n",
      "\n",
      "8. pelican; Correct match.\n",
      "Processing time: 4.93 ms; speed: 202.88 fps\n",
      "\n",
      "9. snail; Correct match.\n",
      "Processing time: 4.75 ms; speed: 210.70 fps\n",
      "\n",
      "10. zebra; Correct match.\n",
      "Processing time: 5.02 ms; speed: 199.20 fps\n",
      "\n",
      "\n",
      "processing time for all iterations\n",
      "average time: 10.40 ms; average speed: 96.15 fps\n",
      "median time: 4.00 ms; median speed: 250.00 fps\n",
      "max time: 63.00 ms; min speed: 15.87 fps\n",
      "min time: 4.00 ms; max speed: 250.00 fps\n",
      "time percentile 90: 12.60 ms; speed percentile 90: 79.37 fps\n",
      "time percentile 50: 4.00 ms; speed percentile 50: 250.00 fps\n",
      "time standard deviation: 17.56\n",
      "time variance: 308.24\n",
      "Classification accuracy: 100.00\n"
     ]
    }
   ],
   "source": [
    "!python3 grpc_serving_client.py \\\n",
    "        --grpc_address ovms-resnet.ovms.svc.cluster.local \\\n",
    "        --grpc_port 8080 \\\n",
    "        --input_name 0 \\\n",
    "        --output_name 1463 \\\n",
    "        --images_numpy_path imgs.npy \\\n",
    "        --labels_numpy_path lbs.npy \\\n",
    "        --transpose_input False "
   ]
  },
  {
   "cell_type": "markdown",
   "id": "612a72c8",
   "metadata": {},
   "source": [
    "## REST API Calls\n",
    "\n",
    "In this section, we will make REST API calls to the OVMS service using sample scripts. We will use port `8081` as `--rest_port`, as we specified in the `ovms.yaml` when we created the OVMS service.\n",
    "\n",
    "Run the cell below to get the model status."
   ]
  },
  {
   "cell_type": "code",
   "execution_count": 17,
   "id": "f53710e8",
   "metadata": {},
   "outputs": [
    {
     "name": "stdout",
     "output_type": "stream",
     "text": [
      "{\n",
      " \"model_version_status\": [\n",
      "  {\n",
      "   \"version\": \"1\",\n",
      "   \"state\": \"AVAILABLE\",\n",
      "   \"status\": {\n",
      "    \"error_code\": \"OK\",\n",
      "    \"error_message\": \"OK\"\n",
      "   }\n",
      "  }\n",
      " ]\n",
      "}\n",
      "\n"
     ]
    }
   ],
   "source": [
    "!python rest_get_model_status.py --rest_url http://ovms-resnet.ovms.svc.cluster.local \\\n",
    "                                 --rest_port 8081 \\\n",
    "                                 --model_name resnet"
   ]
  },
  {
   "cell_type": "markdown",
   "id": "bd92123b",
   "metadata": {},
   "source": [
    "Run the cell below to get serving metadata."
   ]
  },
  {
   "cell_type": "code",
   "execution_count": 18,
   "id": "aa28d94e",
   "metadata": {},
   "outputs": [
    {
     "name": "stdout",
     "output_type": "stream",
     "text": [
      "{\n",
      " \"modelSpec\": {\n",
      "  \"name\": \"resnet\",\n",
      "  \"signatureName\": \"\",\n",
      "  \"version\": \"1\"\n",
      " },\n",
      " \"metadata\": {\n",
      "  \"signature_def\": {\n",
      "   \"@type\": \"type.googleapis.com/tensorflow.serving.SignatureDefMap\",\n",
      "   \"signatureDef\": {\n",
      "    \"serving_default\": {\n",
      "     \"inputs\": {\n",
      "      \"0\": {\n",
      "       \"dtype\": \"DT_FLOAT\",\n",
      "       \"tensorShape\": {\n",
      "        \"dim\": [\n",
      "         {\n",
      "          \"size\": \"1\",\n",
      "          \"name\": \"\"\n",
      "         },\n",
      "         {\n",
      "          \"size\": \"3\",\n",
      "          \"name\": \"\"\n",
      "         },\n",
      "         {\n",
      "          \"size\": \"224\",\n",
      "          \"name\": \"\"\n",
      "         },\n",
      "         {\n",
      "          \"size\": \"224\",\n",
      "          \"name\": \"\"\n",
      "         }\n",
      "        ],\n",
      "        \"unknownRank\": false\n",
      "       },\n",
      "       \"name\": \"0\"\n",
      "      }\n",
      "     },\n",
      "     \"outputs\": {\n",
      "      \"1463\": {\n",
      "       \"dtype\": \"DT_FLOAT\",\n",
      "       \"tensorShape\": {\n",
      "        \"dim\": [\n",
      "         {\n",
      "          \"size\": \"1\",\n",
      "          \"name\": \"\"\n",
      "         },\n",
      "         {\n",
      "          \"size\": \"1000\",\n",
      "          \"name\": \"\"\n",
      "         }\n",
      "        ],\n",
      "        \"unknownRank\": false\n",
      "       },\n",
      "       \"name\": \"1463\"\n",
      "      }\n",
      "     },\n",
      "     \"methodName\": \"\"\n",
      "    }\n",
      "   }\n",
      "  }\n",
      " }\n",
      "}\n",
      "\n"
     ]
    }
   ],
   "source": [
    "!python rest_get_serving_meta.py --rest_url http://ovms-resnet.ovms.svc.cluster.local \\\n",
    "                                 --rest_port 8081 \\\n",
    "                                 --model_name resnet"
   ]
  },
  {
   "cell_type": "markdown",
   "id": "8428ef88",
   "metadata": {},
   "source": [
    "Let's run `rest_serving_client.py` script. It takes `--images_numpy_path` and `--labels_numpy_path` as an input. The script return the same output as `grpc_serving_client.py`."
   ]
  },
  {
   "cell_type": "code",
   "execution_count": 19,
   "id": "bb05bb66",
   "metadata": {},
   "outputs": [
    {
     "name": "stdout",
     "output_type": "stream",
     "text": [
      "Image data range: 0 : 255\n",
      "Start processing.\n",
      "Model name: resnet\n",
      "Iterations: 10\n",
      "Images numpy path: imgs.npy\n",
      "Images in shape: (10, 3, 224, 224)\n",
      "\n",
      "\n",
      "ImageNet Classification Results:\n",
      "\n",
      "1. airliner; Correct match.\n",
      "Processing time: 15.76 ms; speed: 63.45 fps\n",
      "\n",
      "2. Arctic fox, white fox, Alopex lagopus; Correct match.\n",
      "Processing time: 12.68 ms; speed: 78.89 fps\n",
      "\n",
      "3. bee; Correct match.\n",
      "Processing time: 12.44 ms; speed: 80.39 fps\n",
      "\n",
      "4. golden retriever; Correct match.\n",
      "Processing time: 12.22 ms; speed: 81.84 fps\n",
      "\n",
      "5. gorilla, Gorilla gorilla; Correct match.\n",
      "Processing time: 12.28 ms; speed: 81.41 fps\n",
      "\n",
      "6. magnetic compass; Correct match.\n",
      "Processing time: 12.46 ms; speed: 80.26 fps\n",
      "\n",
      "7. peacock; Correct match.\n",
      "Processing time: 12.71 ms; speed: 78.70 fps\n",
      "\n",
      "8. pelican; Correct match.\n",
      "Processing time: 12.52 ms; speed: 79.85 fps\n",
      "\n",
      "9. snail; Correct match.\n",
      "Processing time: 13.27 ms; speed: 75.34 fps\n",
      "\n",
      "10. zebra; Correct match.\n",
      "Processing time: 12.37 ms; speed: 80.82 fps\n",
      "\n",
      "\n",
      "processing time for all iterations\n",
      "average time: 12.40 ms; average speed: 80.65 fps\n",
      "median time: 12.00 ms; median speed: 83.33 fps\n",
      "max time: 15.00 ms; min speed: 66.67 fps\n",
      "min time: 12.00 ms; max speed: 83.33 fps\n",
      "time percentile 90: 13.20 ms; speed percentile 90: 75.76 fps\n",
      "time percentile 50: 12.00 ms; speed percentile 50: 83.33 fps\n",
      "time standard deviation: 0.92\n",
      "time variance: 0.84\n",
      "Classification accuracy: 100.00\n"
     ]
    }
   ],
   "source": [
    "!python rest_serving_client.py --rest_url http://ovms-resnet.ovms.svc.cluster.local \\\n",
    "                               --rest_port 8081 \\\n",
    "                               --model_name resnet \\\n",
    "                               --input_name 0 \\\n",
    "                               --output_name 1463 \\\n",
    "                               --images_numpy_path imgs.npy \\\n",
    "                               --labels_numpy_path lbs.npy \\\n",
    "                               --transpose_input False                "
   ]
  },
  {
   "cell_type": "markdown",
   "id": "c09fb5c1",
   "metadata": {},
   "source": [
    "## Cleanup\n",
    "\n",
    "Let's free up resources."
   ]
  },
  {
   "cell_type": "code",
   "execution_count": 20,
   "id": "67972730",
   "metadata": {},
   "outputs": [
    {
     "name": "stdout",
     "output_type": "stream",
     "text": [
      "ovms.intel.com \"ovms-resnet\" deleted\n"
     ]
    }
   ],
   "source": [
    "!oc delete ovms ovms-resnet"
   ]
  },
  {
   "cell_type": "markdown",
   "id": "a13f9e82",
   "metadata": {},
   "source": [
    "## Next Steps\n",
    "\n",
    "In this notebook, you have learned how to gRPC and REST API calls to the OpenVINO Model Server service by invoking Python scripts. Next, you can explore other OpenShift OVMS notebooks:\n",
    "\n",
    "- [Deploy Image Classification with OpenVINO Model Server in OpenShift](../401-model-serving-openshift-resnet/ovms-openshift-resnet.ipynb)\n",
    "- [Face Detection Multi Model OpenVINO Model Server Deployment in OpenShift](../403-model-serving-openshift-face-detection-dag/ovms-openshift-face-detection-dag.ipynb)"
   ]
  }
 ],
 "metadata": {
  "kernelspec": {
   "display_name": "Python 3",
   "language": "python",
   "name": "python3"
  },
  "language_info": {
   "codemirror_mode": {
    "name": "ipython",
    "version": 3
   },
   "file_extension": ".py",
   "mimetype": "text/x-python",
   "name": "python",
   "nbconvert_exporter": "python",
   "pygments_lexer": "ipython3",
   "version": "3.8.3"
  }
 },
 "nbformat": 4,
 "nbformat_minor": 5
}
