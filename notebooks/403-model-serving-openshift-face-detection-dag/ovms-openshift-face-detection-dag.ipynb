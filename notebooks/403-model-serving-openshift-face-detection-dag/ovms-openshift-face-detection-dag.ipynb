{
 "cells": [
  {
   "cell_type": "markdown",
   "id": "394b97e9",
   "metadata": {},
   "source": [
    "# Face Detection Multi-Model OpenVINO Model Server Deployment in OpenShift\n",
    "\n",
    "We will show you how to deploy OpenVINO Model Server (OVMS) service with multiple models in an OpenShift cluster. We will run a face detection request to the AI inference service which will return age, gender, and emotion recognition as an ouput for each detected face.\n",
    "\n",
    "Requirements:\n",
    "- OpenShift cluster with the API access to a project\n",
    "- installed [OpenVINO Model Server Operator](https://catalog.redhat.com/software/operators/search?q=openvino)\n",
    "- JupyterLab environment with Python3 deployed in the cluster\n",
    "\n",
    "If you don't have an OpenShift account, you can sign up for 30 or 60 day [free trial of Red Hat OpenShift](https://www.openshift.com/try)."
   ]
  },
  {
   "cell_type": "markdown",
   "id": "bce0c403",
   "metadata": {},
   "source": [
    "## Login to OpenShift with API Token\n",
    "\n",
    "First, let's login to OpenShift cluster using `oc` tool. \n",
    "\n",
    "In the Red Hat OpenShift console, click on your username and select `Copy login command`.\n",
    "\n",
    "![copy-login.png](notebook-files/copy-login.png)\n",
    "\n",
    "Click on `Display Token` and your API token will appear.\n",
    "\n",
    "![log-in-with-token.png](notebook-files/log-in-with-token.png)\n",
    "\n",
    "Copy `Log in with token` command and paste it in the cell below. The command has your `<user-API-token>` and `<cluster-DNS-name>`."
   ]
  },
  {
   "cell_type": "code",
   "execution_count": 1,
   "id": "f95b2eee",
   "metadata": {},
   "outputs": [
    {
     "name": "stdout",
     "output_type": "stream",
     "text": [
      "Logged into \"https://api.openvino5.3q12.p1.openshiftapps.com:6443\" as \"nyurguhun\" using the token provided.\n",
      "\n",
      "You have access to the following projects and can switch between them with 'oc project <projectname>':\n",
      "\n",
      "  * ovms\n",
      "    rose-jh\n",
      "\n",
      "Using project \"ovms\".\n"
     ]
    }
   ],
   "source": [
    "!oc login --token=<user-API-token> --server=https://api.<cluster-DNS-name>:6443"
   ]
  },
  {
   "cell_type": "markdown",
   "id": "83ad0c9a",
   "metadata": {},
   "source": [
    "Create `ovms` project and go to this project."
   ]
  },
  {
   "cell_type": "code",
   "execution_count": 2,
   "id": "06092b79",
   "metadata": {},
   "outputs": [
    {
     "name": "stdout",
     "output_type": "stream",
     "text": [
      "Error from server (AlreadyExists): project.project.openshift.io \"ovms\" already exists\n",
      "Already on project \"ovms\" on server \"https://api.openvino5.3q12.p1.openshiftapps.com:6443\".\n"
     ]
    }
   ],
   "source": [
    "!oc new-project ovms\n",
    "!oc project ovms"
   ]
  },
  {
   "cell_type": "markdown",
   "id": "8506a77b",
   "metadata": {},
   "source": [
    "## Create MinIO Storage\n",
    "\n",
    "OpenVINO Model Server exposes DL models over gRPC and REST interface. The models can be stored in cloud storage like AWS S3, Google Storage or Azure Blobs. In OpenShift and Kubernetes, Persistent Storage Claim could be used as well. In this tutorial, we will use MinIO service which is an equivalent of AWS S3.\n",
    "\n",
    "Let's create a MinIO service."
   ]
  },
  {
   "cell_type": "code",
   "execution_count": 3,
   "id": "e39f1259",
   "metadata": {},
   "outputs": [
    {
     "name": "stdout",
     "output_type": "stream",
     "text": [
      "deployment.apps/minio created\n",
      "service/minio-service created\n"
     ]
    }
   ],
   "source": [
    "!oc apply -f minio.yaml"
   ]
  },
  {
   "cell_type": "markdown",
   "id": "f6285d85",
   "metadata": {},
   "source": [
    "Next step is to download `mc`, MinIO Client."
   ]
  },
  {
   "cell_type": "code",
   "execution_count": 4,
   "id": "f23af9f7",
   "metadata": {},
   "outputs": [
    {
     "name": "stdout",
     "output_type": "stream",
     "text": [
      "--2021-05-12 16:33:41--  https://dl.min.io/client/mc/release/linux-amd64/mc\n",
      "Resolving dl.min.io (dl.min.io)... 178.128.69.202\n",
      "Connecting to dl.min.io (dl.min.io)|178.128.69.202|:443... connected.\n",
      "HTTP request sent, awaiting response... 200 OK\n",
      "Length: 20819968 (20M) [application/octet-stream]\n",
      "Saving to: ‘mc’\n",
      "\n",
      "mc                  100%[===================>]  19.86M  14.3MB/s    in 1.4s    \n",
      "\n",
      "2021-05-12 16:33:42 (14.3 MB/s) - ‘mc’ saved [20819968/20819968]\n",
      "\n"
     ]
    }
   ],
   "source": [
    "!wget https://dl.min.io/client/mc/release/linux-amd64/mc"
   ]
  },
  {
   "cell_type": "markdown",
   "id": "1ba312d1",
   "metadata": {},
   "source": [
    "Change the access permissions on `mc`, so we can run commands with it."
   ]
  },
  {
   "cell_type": "code",
   "execution_count": 5,
   "id": "bdbe0f22",
   "metadata": {},
   "outputs": [],
   "source": [
    "!chmod 755 mc"
   ]
  },
  {
   "cell_type": "markdown",
   "id": "3a4844f1",
   "metadata": {},
   "source": [
    "Let's make an alias for the MinIO service."
   ]
  },
  {
   "cell_type": "code",
   "execution_count": 6,
   "id": "d48c0e82",
   "metadata": {},
   "outputs": [
    {
     "name": "stdout",
     "output_type": "stream",
     "text": [
      "\u001b[m\u001b[32mAdded `minio` successfully.\u001b[0m\n",
      "\u001b[0m"
     ]
    }
   ],
   "source": [
    "!./mc alias set minio http://minio-service.ovms:9000 minio minio123"
   ]
  },
  {
   "cell_type": "markdown",
   "id": "89dc44d6",
   "metadata": {},
   "source": [
    "Create a `minio/models` bucket; it's where we will store our models."
   ]
  },
  {
   "cell_type": "code",
   "execution_count": 7,
   "id": "829903b1",
   "metadata": {},
   "outputs": [
    {
     "name": "stdout",
     "output_type": "stream",
     "text": [
      "\u001b[m\u001b[32;1mBucket created successfully `minio/models`.\u001b[0m\n",
      "\u001b[0m"
     ]
    }
   ],
   "source": [
    "!./mc mb minio/models"
   ]
  },
  {
   "cell_type": "markdown",
   "id": "2cf18acb",
   "metadata": {},
   "source": [
    "## Create Model Repository\n",
    "\n",
    "Now, we will upload the models to the MinIO bucket for serving in the OpenVINO Model Server. We will use 3 models:\n",
    "* [face detection](https://github.com/openvinotoolkit/open_model_zoo/blob/master/models/intel/face-detection-retail-0004/description/face-detection-retail-0004.md)\n",
    "* [age gender recognition](https://github.com/openvinotoolkit/open_model_zoo/blob/master/models/intel/age-gender-recognition-retail-0013/description/age-gender-recognition-retail-0013.md)\n",
    "* [emotion recognition](https://github.com/openvinotoolkit/open_model_zoo/blob/master/models/intel/emotions-recognition-retail-0003/description/emotions-recognition-retail-0003.md)\n",
    "\n",
    "First, we will download the models here."
   ]
  },
  {
   "cell_type": "code",
   "execution_count": 8,
   "id": "f8be7f5f",
   "metadata": {},
   "outputs": [
    {
     "name": "stdout",
     "output_type": "stream",
     "text": [
      "  % Total    % Received % Xferd  Average Speed   Time    Time     Time  Current\n",
      "                                 Dload  Upload   Total   Spent    Left  Speed\n",
      "100 30901  100 30901    0     0  54307      0 --:--:-- --:--:-- --:--:-- 54307\n",
      "  % Total    % Received % Xferd  Average Speed   Time    Time     Time  Current\n",
      "                                 Dload  Upload   Total   Spent    Left  Speed\n",
      "100 8351k  100 8351k    0     0  11.1M      0 --:--:-- --:--:-- --:--:-- 11.1M\n",
      "  % Total    % Received % Xferd  Average Speed   Time    Time     Time  Current\n",
      "                                 Dload  Upload   Total   Spent    Left  Speed\n",
      "100  101k  100  101k    0     0   711k      0 --:--:-- --:--:-- --:--:--  711k\n",
      "  % Total    % Received % Xferd  Average Speed   Time    Time     Time  Current\n",
      "                                 Dload  Upload   Total   Spent    Left  Speed\n",
      "100 2297k  100 2297k    0     0  2671k      0 --:--:-- --:--:-- --:--:-- 2668k\n",
      "  % Total    % Received % Xferd  Average Speed   Time    Time     Time  Current\n",
      "                                 Dload  Upload   Total   Spent    Left  Speed\n",
      "100 39391  100 39391    0     0  98231      0 --:--:-- --:--:-- --:--:-- 97987\n",
      "  % Total    % Received % Xferd  Average Speed   Time    Time     Time  Current\n",
      "                                 Dload  Upload   Total   Spent    Left  Speed\n",
      "100 9697k  100 9697k    0     0  9706k      0 --:--:-- --:--:-- --:--:-- 9697k\n"
     ]
    }
   ],
   "source": [
    "!curl --create-dirs https://storage.openvinotoolkit.org/repositories/open_model_zoo/2021.3/models_bin/2/age-gender-recognition-retail-0013/FP32/age-gender-recognition-retail-0013.xml -o age-gender/1/age-gender-recognition-retail-0013.xml \n",
    "!curl --create-dirs https://storage.openvinotoolkit.org/repositories/open_model_zoo/2021.3/models_bin/2/age-gender-recognition-retail-0013/FP32/age-gender-recognition-retail-0013.bin -o age-gender/1/age-gender-recognition-retail-0013.bin\n",
    "!curl --create-dirs https://storage.openvinotoolkit.org/repositories/open_model_zoo/2021.3/models_bin/2/face-detection-retail-0004/FP32/face-detection-retail-0004.xml -o face-detection/1/face-detection-retail-0004.xml\n",
    "!curl --create-dirs https://storage.openvinotoolkit.org/repositories/open_model_zoo/2021.3/models_bin/2/face-detection-retail-0004/FP32/face-detection-retail-0004.bin -o face-detection/1/face-detection-retail-0004.bin\n",
    "!curl --create-dirs https://storage.openvinotoolkit.org/repositories/open_model_zoo/2021.3/models_bin/2/emotions-recognition-retail-0003/FP32/emotions-recognition-retail-0003.xml -o emotions/1/emotions-recognition-retail-0003.xml\n",
    "!curl --create-dirs https://storage.openvinotoolkit.org/repositories/open_model_zoo/2021.3/models_bin/2/emotions-recognition-retail-0003/FP32/emotions-recognition-retail-0003.bin -o emotions/1/emotions-recognition-retail-0003.bin"
   ]
  },
  {
   "cell_type": "markdown",
   "id": "eb9f7d2b",
   "metadata": {},
   "source": [
    "Now, copy the models into the MinIO bucket."
   ]
  },
  {
   "cell_type": "code",
   "execution_count": 9,
   "id": "f81e8efa",
   "metadata": {},
   "outputs": [
    {
     "name": "stdout",
     "output_type": "stream",
     "text": [
      "...-0003.xml:  9.51 MiB / 9.51 MiB ┃▓▓▓▓▓▓▓▓▓▓▓▓▓▓▓▓▓▓▓▓▓▓▓▓▓▓▓┃ 175.37 MiB/s 0s\u001b[0m\u001b[0m\u001b[m\u001b[32;1m\u001b[m\u001b[32;1m\u001b[m\u001b[32;1m\u001b[m\u001b[32;1m\u001b[m\u001b[32;1m"
     ]
    }
   ],
   "source": [
    "!./mc cp --recursive age-gender minio/models/\n",
    "!./mc cp --recursive face-detection minio/models/\n",
    "!./mc cp --recursive emotions minio/models/"
   ]
  },
  {
   "cell_type": "markdown",
   "id": "ce62b59b",
   "metadata": {},
   "source": [
    "Let's make sure the models have been successfully copied."
   ]
  },
  {
   "cell_type": "code",
   "execution_count": 10,
   "id": "8a6fa1dc",
   "metadata": {},
   "outputs": [
    {
     "name": "stdout",
     "output_type": "stream",
     "text": [
      "\u001b[m\u001b[32m[2021-05-12 16:33:55 UTC]\u001b[0m\u001b[33m 8.2MiB\u001b[0m\u001b[1m age-gender/1/age-gender-recognition-retail-0013.bin\u001b[0m\n",
      "\u001b[0m\u001b[m\u001b[32m[2021-05-12 16:33:55 UTC]\u001b[0m\u001b[33m  30KiB\u001b[0m\u001b[1m age-gender/1/age-gender-recognition-retail-0013.xml\u001b[0m\n",
      "\u001b[0m\u001b[m\u001b[32m[2021-05-12 16:33:56 UTC]\u001b[0m\u001b[33m 9.5MiB\u001b[0m\u001b[1m emotions/1/emotions-recognition-retail-0003.bin\u001b[0m\n",
      "\u001b[0m\u001b[m\u001b[32m[2021-05-12 16:33:56 UTC]\u001b[0m\u001b[33m  38KiB\u001b[0m\u001b[1m emotions/1/emotions-recognition-retail-0003.xml\u001b[0m\n",
      "\u001b[0m\u001b[m\u001b[32m[2021-05-12 16:33:56 UTC]\u001b[0m\u001b[33m 2.2MiB\u001b[0m\u001b[1m face-detection/1/face-detection-retail-0004.bin\u001b[0m\n",
      "\u001b[0m\u001b[m\u001b[32m[2021-05-12 16:33:56 UTC]\u001b[0m\u001b[33m 102KiB\u001b[0m\u001b[1m face-detection/1/face-detection-retail-0004.xml\u001b[0m\n",
      "\u001b[0m"
     ]
    }
   ],
   "source": [
    "!./mc ls -r minio/models"
   ]
  },
  {
   "cell_type": "markdown",
   "id": "87e97fea",
   "metadata": {},
   "source": [
    "## Create a Directed Acyclic Graph Pipeline\n",
    "\n",
    "To implement the multi-model pipeline, we will use a Directed Acyclic Graph, or DAG, scheduler. Here's the workflow.\n",
    "\n",
    "![graph](notebook-files/faces_analysis_graph.svg)\n",
    "\n",
    "As you can see from the workflow, DAG is a graph that doesn't have any loops. It consists of processes that are only moving forward."
   ]
  },
  {
   "cell_type": "markdown",
   "id": "18fe2696",
   "metadata": {},
   "source": [
    "We will need the `config.json` to define the DAG pipeline. "
   ]
  },
  {
   "cell_type": "code",
   "execution_count": 11,
   "id": "ede0bfc3",
   "metadata": {},
   "outputs": [
    {
     "name": "stdout",
     "output_type": "stream",
     "text": [
      "{\n",
      "  \"model_config_list\": [\n",
      "    {\"config\": {\n",
      "      \"name\": \"face_detection\",\n",
      "      \"base_path\": \"s3://models/face-detection/\",\n",
      "      \"shape\": \"(1,3,400,600)\"}},\n",
      "    {\"config\": {\n",
      "      \"name\": \"age_gender_recognition\",\n",
      "      \"base_path\": \"s3://models/age-gender/\",\n",
      "      \"shape\": \"(1,3,64,64)\"}},\n",
      "    {\"config\": {\n",
      "      \"name\": \"emotion_recognition\",\n",
      "      \"base_path\": \"s3://models/emotions/\",\n",
      "      \"shape\": \"(1,3,64,64)\"}}\n",
      "  ],\n",
      "  \"custom_node_library_config_list\": [\n",
      "    {\"name\": \"object_detection_image_extractor\",\n",
      "      \"base_path\": \"/config/libcustom_node.so\"}\n",
      "  ],\n",
      "  \"pipeline_config_list\": [\n",
      "    {\n",
      "      \"name\": \"find_face_images\",\n",
      "      \"inputs\": [\n",
      "        \"image\"\n",
      "      ],\n",
      "      \"nodes\": [\n",
      "        {\n",
      "          \"name\": \"face_detection_node\",\n",
      "          \"model_name\": \"face_detection\",\n",
      "          \"type\": \"DL model\",\n",
      "          \"inputs\": [\n",
      "            {\"data\": {\n",
      "              \"node_name\": \"request\",\n",
      "              \"data_item\": \"image\"}}],\n",
      "          \"outputs\": [\n",
      "            {\"data_item\": \"detection_out\",\n",
      "              \"alias\": \"detection\"}]\n",
      "        },\n",
      "        {\n",
      "          \"name\": \"extract_node\",\n",
      "          \"library_name\": \"object_detection_image_extractor\",\n",
      "          \"type\": \"custom\",\n",
      "          \"demultiply_count\": 0,\n",
      "          \"params\": {\n",
      "            \"original_image_width\": \"600\",\n",
      "            \"original_image_height\": \"400\",\n",
      "            \"target_image_width\": \"64\",\n",
      "            \"target_image_height\": \"64\",\n",
      "            \"convert_to_gray_scale\": \"false\",\n",
      "            \"max_output_batch\": \"100\",\n",
      "            \"confidence_threshold\": \"0.7\",\n",
      "            \"debug\": \"true\"\n",
      "          },\n",
      "          \"inputs\": [\n",
      "            {\"image\": {\n",
      "              \"node_name\": \"request\",\n",
      "              \"data_item\": \"image\"}},\n",
      "            {\"detection\": {\n",
      "              \"node_name\": \"face_detection_node\",\n",
      "              \"data_item\": \"detection\"}}],\n",
      "          \"outputs\": [\n",
      "            {\"data_item\": \"images\",\n",
      "              \"alias\": \"face_images\"},\n",
      "            {\"data_item\": \"coordinates\",\n",
      "              \"alias\": \"face_coordinates\"},\n",
      "            {\"data_item\": \"confidences\",\n",
      "              \"alias\": \"confidence_levels\"}]\n",
      "        },\n",
      "        {\n",
      "          \"name\": \"age_gender_recognition_node\",\n",
      "          \"model_name\": \"age_gender_recognition\",\n",
      "          \"type\": \"DL model\",\n",
      "          \"inputs\": [\n",
      "            {\"data\": {\n",
      "              \"node_name\": \"extract_node\",\n",
      "              \"data_item\": \"face_images\"}}],\n",
      "          \"outputs\": [\n",
      "            {\"data_item\": \"age_conv3\",\n",
      "              \"alias\": \"age\"},\n",
      "            {\"data_item\": \"prob\",\n",
      "              \"alias\": \"gender\"}]\n",
      "        },\n",
      "        {\n",
      "          \"name\": \"emotion_recognition_node\",\n",
      "          \"model_name\": \"emotion_recognition\",\n",
      "          \"type\": \"DL model\",\n",
      "          \"inputs\": [\n",
      "            {\"data\": {\n",
      "              \"node_name\": \"extract_node\",\n",
      "              \"data_item\": \"face_images\"}}],\n",
      "          \"outputs\": [\n",
      "            {\"data_item\": \"prob_emotion\",\n",
      "              \"alias\": \"emotion\"}]\n",
      "        }\n",
      "      ],\n",
      "      \"outputs\": [\n",
      "        {\"face_images\": {\n",
      "          \"node_name\": \"extract_node\",\n",
      "          \"data_item\": \"face_images\"}},\n",
      "        {\"face_coordinates\": {\n",
      "          \"node_name\": \"extract_node\",\n",
      "          \"data_item\": \"face_coordinates\"}},\n",
      "        {\"confidence_levels\": {\n",
      "          \"node_name\": \"extract_node\",\n",
      "          \"data_item\": \"confidence_levels\"}},\n",
      "        {\"ages\": {\n",
      "          \"node_name\": \"age_gender_recognition_node\",\n",
      "          \"data_item\": \"age\"}},\n",
      "        {\"genders\": {\n",
      "          \"node_name\": \"age_gender_recognition_node\",\n",
      "          \"data_item\": \"gender\"}},\n",
      "        {\"emotions\": {\n",
      "          \"node_name\": \"emotion_recognition_node\",\n",
      "          \"data_item\": \"emotion\"}}\n",
      "      ]\n",
      "    }\n",
      "  ]\n",
      "}"
     ]
    }
   ],
   "source": [
    "!cat config.json"
   ]
  },
  {
   "cell_type": "markdown",
   "id": "8b9d6691",
   "metadata": {},
   "source": [
    "## Create a Custom Node\n",
    "\n",
    "We will use [this custom node](https://github.com/openvinotoolkit/model_server/tree/develop/src/custom_nodes/model_zoo_intel_object_detection) which will analyze the response from the face detection model. Based on the inference results and the input image, the custom node will generate a list of detected boxes. Each image in the output will be resized to the predefined target size to fit the input of the next model in the DAG pipeline. In addition to detected boxes, the results include the coordinates and the detection scores. \n",
    "\n",
    "The main functionality of custom node in the OVMS DAG scheduler is that it allows us to create an arbitrary implementation of the data transformation node in the pipeline. It will be attached to the Model Server as a dynamic library. \n",
    "\n",
    "Clone the Model Server repo and download OpenCV archive."
   ]
  },
  {
   "cell_type": "code",
   "execution_count": 12,
   "id": "2d904891",
   "metadata": {},
   "outputs": [
    {
     "name": "stdout",
     "output_type": "stream",
     "text": [
      "Cloning into 'model_server'...\n",
      "remote: Enumerating objects: 588, done.\u001b[K\n",
      "remote: Counting objects: 100% (588/588), done.\u001b[K\n",
      "remote: Compressing objects: 100% (508/508), done.\u001b[K\n",
      "remote: Total 588 (delta 157), reused 272 (delta 60), pack-reused 0\u001b[K\n",
      "Receiving objects: 100% (588/588), 4.43 MiB | 40.88 MiB/s, done.\n",
      "Resolving deltas: 100% (157/157), done.\n"
     ]
    }
   ],
   "source": [
    "!git clone --depth=1 -b develop https://github.com/openvinotoolkit/model_server\n",
    "!curl -s https://download.01.org/opencv/master/openvinotoolkit/thirdparty/linux/opencv/opencv_4.5.1-044_centos7.txz | tar --use-compress-program=xz -xf -"
   ]
  },
  {
   "cell_type": "markdown",
   "id": "bc32c73f",
   "metadata": {},
   "source": [
    "Run commands below to compile `libcustom_node.so`, the custom node library. "
   ]
  },
  {
   "cell_type": "code",
   "execution_count": 13,
   "id": "ed1d8bf7",
   "metadata": {},
   "outputs": [],
   "source": [
    "!g++ -c -std=c++17 model_server/src/custom_nodes/model_zoo_intel_object_detection/model_zoo_intel_object_detection.cpp -fpic  -I./opencv/include/ -Wall -Wno-unknown-pragmas -Werror -fno-strict-overflow -fno-delete-null-pointer-checks -fwrapv -fstack-protector\n",
    "!g++ -shared -o libcustom_node.so model_zoo_intel_object_detection.o -L./opencv/lib/ -I./opencv/include/ -lopencv_core -lopencv_imgproc -lopencv_imgcodecs"
   ]
  },
  {
   "cell_type": "markdown",
   "id": "67eb7397",
   "metadata": {},
   "source": [
    "Let's check if the custom node library was created."
   ]
  },
  {
   "cell_type": "code",
   "execution_count": 14,
   "id": "d1d42552",
   "metadata": {},
   "outputs": [
    {
     "name": "stdout",
     "output_type": "stream",
     "text": [
      "-rwxr-xr-x. 1 1000890000 1000890000 212104 May 12 16:34 libcustom_node.so\n"
     ]
    }
   ],
   "source": [
    "!ls -l libcustom_node.so"
   ]
  },
  {
   "cell_type": "markdown",
   "id": "b2f40c52",
   "metadata": {},
   "source": [
    "## Deploy OpenVINO Model Server with a Multi-Model Pipeline"
   ]
  },
  {
   "cell_type": "markdown",
   "id": "d7eee145",
   "metadata": {},
   "source": [
    "Let's add the custom node library and `config.json` to a ConfigMap resource. Later, it will be mounted inside the OVMS service."
   ]
  },
  {
   "cell_type": "code",
   "execution_count": 15,
   "id": "dae185b2",
   "metadata": {},
   "outputs": [
    {
     "name": "stdout",
     "output_type": "stream",
     "text": [
      "configmap/ovms-face-detection-pipeline created\n"
     ]
    }
   ],
   "source": [
    "!oc create configmap ovms-face-detection-pipeline \\\n",
    "                    --from-file=libcustom_node.so=libcustom_node.so \\\n",
    "                    --from-file=config.json=config.json"
   ]
  },
  {
   "cell_type": "markdown",
   "id": "4d7a9e97",
   "metadata": {},
   "source": [
    "Here's the yaml file used to configure the OVMS service. We specified its name to be `ovms-pipeline`."
   ]
  },
  {
   "cell_type": "code",
   "execution_count": 16,
   "id": "54e7324a",
   "metadata": {},
   "outputs": [
    {
     "name": "stdout",
     "output_type": "stream",
     "text": [
      "apiVersion: intel.com/v1alpha1\n",
      "kind: Ovms\n",
      "metadata:\n",
      "  name: ovms-pipeline\n",
      "  namespace: ovms\n",
      "spec:\n",
      "  aws_access_key_id: \"minio\"\n",
      "  aws_region: \"us-east-1\"\n",
      "  aws_secret_access_key: \"minio123\"\n",
      "  s3_compat_api_endpoint: 'http://minio-service:9000'\n",
      "  config_configmap_name: 'ovms-face-detection-pipeline'\n",
      "  grpc_port: 8080\n",
      "  image_name: >-\n",
      "    registry.connect.redhat.com/intel/openvino-model-server:latest\n",
      "  log_level: INFO\n",
      "  plugin_config: '{\\\"CPU_THROUGHPUT_STREAMS\\\":\\\"1\\\"}'\n",
      "  replicas: 1\n",
      "  rest_port: 8081\n",
      "  service_type: ClusterIP\n"
     ]
    }
   ],
   "source": [
    "!cat ovms-face-detection-pipeline.yaml"
   ]
  },
  {
   "cell_type": "markdown",
   "id": "f1c9dfd5",
   "metadata": {},
   "source": [
    "Let's create the `ovms-pipeline` service."
   ]
  },
  {
   "cell_type": "code",
   "execution_count": 17,
   "id": "002db38e",
   "metadata": {},
   "outputs": [
    {
     "name": "stdout",
     "output_type": "stream",
     "text": [
      "ovms.intel.com/ovms-pipeline created\n"
     ]
    }
   ],
   "source": [
    "!oc apply -f ovms-face-detection-pipeline.yaml"
   ]
  },
  {
   "cell_type": "markdown",
   "id": "06be373d",
   "metadata": {},
   "source": [
    "It takes around 15 seconds to create the pod and the service. They should start with `ovms-pipeline`."
   ]
  },
  {
   "cell_type": "code",
   "execution_count": 26,
   "id": "8780a999",
   "metadata": {},
   "outputs": [
    {
     "name": "stdout",
     "output_type": "stream",
     "text": [
      "NAME                             READY     STATUS    RESTARTS   AGE\n",
      "minio-5c57f888dd-vpdcd           1/1       Running   0          65s\n",
      "ovms-pipeline-66494fbd96-mdjxj   1/1       Running   0          26s\n",
      "NAME            TYPE        CLUSTER-IP      EXTERNAL-IP   PORT(S)             AGE\n",
      "minio-service   ClusterIP   172.30.39.13    <none>        9000/TCP            66s\n",
      "ovms-pipeline   ClusterIP   172.30.91.199   <none>        8080/TCP,8081/TCP   27s\n"
     ]
    }
   ],
   "source": [
    "!oc get pod\n",
    "!oc get service"
   ]
  },
  {
   "cell_type": "markdown",
   "id": "798339e8",
   "metadata": {},
   "source": [
    "Let's check if the OpenVINO Model Server service is running by making an API request via cURL. Models' `state` should be `AVAILABLE`."
   ]
  },
  {
   "cell_type": "code",
   "execution_count": 27,
   "id": "2894dd95",
   "metadata": {},
   "outputs": [
    {
     "name": "stdout",
     "output_type": "stream",
     "text": [
      "{\n",
      "\"age_gender_recognition\" : \n",
      "{\n",
      " \"model_version_status\": [\n",
      "  {\n",
      "   \"version\": \"1\",\n",
      "   \"state\": \"AVAILABLE\",\n",
      "   \"status\": {\n",
      "    \"error_code\": \"OK\",\n",
      "    \"error_message\": \"OK\"\n",
      "   }\n",
      "  }\n",
      " ]\n",
      "},\n",
      "\"emotion_recognition\" : \n",
      "{\n",
      " \"model_version_status\": [\n",
      "  {\n",
      "   \"version\": \"1\",\n",
      "   \"state\": \"AVAILABLE\",\n",
      "   \"status\": {\n",
      "    \"error_code\": \"OK\",\n",
      "    \"error_message\": \"OK\"\n",
      "   }\n",
      "  }\n",
      " ]\n",
      "},\n",
      "\"face_detection\" : \n",
      "{\n",
      " \"model_version_status\": [\n",
      "  {\n",
      "   \"version\": \"1\",\n",
      "   \"state\": \"AVAILABLE\",\n",
      "   \"status\": {\n",
      "    \"error_code\": \"OK\",\n",
      "    \"error_message\": \"OK\"\n",
      "   }\n",
      "  }\n",
      " ]\n",
      "},\n",
      "\"find_face_images\" : \n",
      "{\n",
      " \"model_version_status\": [\n",
      "  {\n",
      "   \"version\": \"1\",\n",
      "   \"state\": \"AVAILABLE\",\n",
      "   \"status\": {\n",
      "    \"error_code\": \"OK\",\n",
      "    \"error_message\": \"OK\"\n",
      "   }\n",
      "  }\n",
      " ]\n",
      "}\n",
      "}"
     ]
    }
   ],
   "source": [
    "!curl -s http://ovms-pipeline.ovms.svc:8081/v1/config"
   ]
  },
  {
   "cell_type": "markdown",
   "id": "528c1283",
   "metadata": {},
   "source": [
    "## Run an Inference Request\n",
    "\n",
    "The pipeline execution is represented as the `find_face_images` model. The client runs an inference request exactly the same way as it would run with a single model.\n",
    "\n",
    "Let's import Python packages needed for inference request."
   ]
  },
  {
   "cell_type": "code",
   "execution_count": 28,
   "id": "98a5719e",
   "metadata": {},
   "outputs": [],
   "source": [
    "import grpc\n",
    "import cv2\n",
    "import os\n",
    "import numpy as np\n",
    "from tensorflow import make_tensor_proto, make_ndarray\n",
    "import argparse\n",
    "from tensorflow_serving.apis import predict_pb2\n",
    "from tensorflow_serving.apis import prediction_service_pb2_grpc\n",
    "from IPython.display import Image, display"
   ]
  },
  {
   "cell_type": "markdown",
   "id": "b2d16a32",
   "metadata": {},
   "source": [
    "We will run face detection on this image.\n",
    "\n",
    "![people](people.jpg)\n"
   ]
  },
  {
   "cell_type": "markdown",
   "id": "4442a039",
   "metadata": {},
   "source": [
    "Prepare the image for sending it in the gRPC request to the `ovms-pipeline` service."
   ]
  },
  {
   "cell_type": "code",
   "execution_count": 29,
   "id": "1ff16972",
   "metadata": {},
   "outputs": [],
   "source": [
    "img = cv2.imread('people.jpg').astype(np.float32)  # BGR color format, shape HWC\n",
    "resolution = (400, 600)\n",
    "img = cv2.resize(img, (resolution[1], resolution[0]))\n",
    "img = img.transpose(2,0,1).reshape(1,3,resolution[0],resolution[1])"
   ]
  },
  {
   "cell_type": "markdown",
   "id": "04ed47bc",
   "metadata": {},
   "source": [
    "Next, let's establish connection with the `ovms-pipeline` service."
   ]
  },
  {
   "cell_type": "code",
   "execution_count": 30,
   "id": "2d165e2d",
   "metadata": {},
   "outputs": [],
   "source": [
    "address = \"ovms-pipeline.ovms.svc:8080\"\n",
    "MAX_MESSAGE_LENGTH = 1024 * 1024 * 8  # incresed default max size of the message\n",
    "channel = grpc.insecure_channel(address,\n",
    "    options=[\n",
    "        ('grpc.max_send_message_length', MAX_MESSAGE_LENGTH),\n",
    "        ('grpc.max_receive_message_length', MAX_MESSAGE_LENGTH),\n",
    "    ])\n",
    "\n",
    "stub = prediction_service_pb2_grpc.PredictionServiceStub(channel)\n",
    "request = predict_pb2.PredictRequest()\n",
    "request.model_spec.name = \"find_face_images\""
   ]
  },
  {
   "cell_type": "markdown",
   "id": "5a37c71f",
   "metadata": {},
   "source": [
    "Send the request and prediction will be executed. Note that the exception is handled when the pipeline doesn't detect any face in the image. "
   ]
  },
  {
   "cell_type": "code",
   "execution_count": 31,
   "id": "48679924",
   "metadata": {},
   "outputs": [],
   "source": [
    "request.inputs['image'].CopyFrom(make_tensor_proto(img, shape=img.shape))\n",
    "try:\n",
    "    response = stub.Predict(request, 10.0)\n",
    "except grpc.RpcError as err:\n",
    "    if err.code() == grpc.StatusCode.ABORTED:\n",
    "        print('No face has been found in the image')\n",
    "        exit(1)\n",
    "    else:\n",
    "        raise err\n"
   ]
  },
  {
   "cell_type": "markdown",
   "id": "e78e3c22",
   "metadata": {},
   "source": [
    "We will receive results as `ages`, `genders`, `emotions`, and `face_coordinates` in `response` object. `face_images` output returns cropped faces retrieved from the original image.\n",
    "\n",
    "Define functions to process the output."
   ]
  },
  {
   "cell_type": "code",
   "execution_count": 32,
   "id": "408a6a14",
   "metadata": {},
   "outputs": [],
   "source": [
    "images = []\n",
    "def save_face_images_as_jpgs(output_nd, name, location):\n",
    "    for i in range(output_nd.shape[0]):\n",
    "        out = output_nd[i][0]\n",
    "        out = out.transpose(1,2,0)\n",
    "        output_file_name = name + '_' + str(i) + '.jpg'\n",
    "        cv2.imwrite(os.path.join(location, output_file_name), out)\n",
    "        images.append(output_file_name)\n",
    "        \n",
    "def update_people_ages(output_nd, people):\n",
    "    for i in range(output_nd.shape[0]):\n",
    "        age = int(output_nd[i,0,0,0,0] * 100)\n",
    "        if len(people) < i + 1:\n",
    "            people.append({'age': age})\n",
    "        else:\n",
    "            people[i].update({'age': age})\n",
    "    return people\n",
    "\n",
    "def update_people_genders(output_nd, people):\n",
    "    for i in range(output_nd.shape[0]):\n",
    "        gender = 'male' if output_nd[i,0,0,0,0] < output_nd[i,0,1,0,0] else 'female'\n",
    "        if len(people) < i + 1:\n",
    "            people.append({'gender': gender})\n",
    "        else:\n",
    "            people[i].update({'gender': gender})\n",
    "    return people\n",
    "\n",
    "def update_people_emotions(output_nd, people):\n",
    "    emotion_names = {\n",
    "        0: 'neutral',\n",
    "        1: 'happy',\n",
    "        2: 'sad',\n",
    "        3: 'surprised',\n",
    "        4: 'angry'\n",
    "    }\n",
    "    for i in range(output_nd.shape[0]):\n",
    "        emotion_id = np.argmax(output_nd[i,0,:,0,0])\n",
    "        emotion = emotion_names[emotion_id]\n",
    "        if len(people) < i + 1:\n",
    "            people.append({'emotion': emotion})\n",
    "        else:\n",
    "            people[i].update({'emotion': emotion})\n",
    "    return people\n",
    "\n",
    "def update_people_coordinate(output_nd, people):\n",
    "    for i in range(output_nd.shape[0]):\n",
    "        if len(people) < i + 1:\n",
    "            people.append({'coordinate': output_nd[i,0,:]})\n",
    "        else:\n",
    "            people[i].update({'coordinate': output_nd[i,0,:]})\n",
    "    return people"
   ]
  },
  {
   "cell_type": "markdown",
   "id": "50c65d92",
   "metadata": {},
   "source": [
    "Let's process the output."
   ]
  },
  {
   "cell_type": "code",
   "execution_count": 33,
   "id": "0f3c6e59",
   "metadata": {},
   "outputs": [
    {
     "name": "stdout",
     "output_type": "stream",
     "text": [
      "Output: name[emotions]\n",
      "    numpy => shape[(6, 1, 5, 1, 1)] data[float32]\n",
      "Output: name[ages]\n",
      "    numpy => shape[(6, 1, 1, 1, 1)] data[float32]\n",
      "Output: name[genders]\n",
      "    numpy => shape[(6, 1, 2, 1, 1)] data[float32]\n",
      "Output: name[face_images]\n",
      "    numpy => shape[(6, 1, 3, 64, 64)] data[float32]\n",
      "Output: name[confidence_levels]\n",
      "    numpy => shape[(6, 1, 1)] data[float32]\n",
      "Output: name[face_coordinates]\n",
      "    numpy => shape[(6, 1, 4)] data[float32]\n"
     ]
    }
   ],
   "source": [
    "people = []\n",
    "\n",
    "for name in response.outputs:\n",
    "    print(f\"Output: name[{name}]\")\n",
    "    tensor_proto = response.outputs[name]\n",
    "    output_nd = make_ndarray(tensor_proto)\n",
    "    print(f\"    numpy => shape[{output_nd.shape}] data[{output_nd.dtype}]\")\n",
    "\n",
    "    if name == 'face_images':\n",
    "        save_face_images_as_jpgs(output_nd, name, \".\")\n",
    "    if name == 'ages':\n",
    "        people = update_people_ages(output_nd, people)\n",
    "    if name == 'genders':\n",
    "        people = update_people_genders(output_nd, people)\n",
    "    if name == 'emotions':\n",
    "        people = update_people_emotions(output_nd, people)\n",
    "    if name == 'face_coordinates':\n",
    "        people = update_people_coordinate(output_nd, people)"
   ]
  },
  {
   "cell_type": "markdown",
   "id": "b70d6fa6",
   "metadata": {},
   "source": [
    "Now we can view the results."
   ]
  },
  {
   "cell_type": "code",
   "execution_count": 34,
   "id": "630ff168",
   "metadata": {},
   "outputs": [
    {
     "name": "stdout",
     "output_type": "stream",
     "text": [
      "\n",
      "Found 6 faces:\n",
      "\n"
     ]
    },
    {
     "data": {
      "image/jpeg": "[encoded data removed]",
      "text/plain": [
       "<IPython.core.display.Image object>"
      ]
     },
     "metadata": {},
     "output_type": "display_data"
    },
    {
     "name": "stdout",
     "output_type": "stream",
     "text": [
      "\n",
      "Estimated Age: 28\n",
      "Estimated Gender: male\n",
      "Estimated Emotion: happy\n",
      "Original Image Coordinates:[0.3782609  0.35938    0.44495052 0.5501346 ]\n",
      "\n"
     ]
    },
    {
     "data": {
      "image/jpeg": "[encoded data removed]",
      "text/plain": [
       "<IPython.core.display.Image object>"
      ]
     },
     "metadata": {},
     "output_type": "display_data"
    },
    {
     "name": "stdout",
     "output_type": "stream",
     "text": [
      "\n",
      "Estimated Age: 29\n",
      "Estimated Gender: female\n",
      "Estimated Emotion: angry\n",
      "Original Image Coordinates:[0.7024455  0.3754582  0.77637887 0.5739976 ]\n",
      "\n"
     ]
    },
    {
     "data": {
      "image/jpeg": "[encoded data removed]",
      "text/plain": [
       "<IPython.core.display.Image object>"
      ]
     },
     "metadata": {},
     "output_type": "display_data"
    },
    {
     "name": "stdout",
     "output_type": "stream",
     "text": [
      "\n",
      "Estimated Age: 24\n",
      "Estimated Gender: male\n",
      "Estimated Emotion: happy\n",
      "Original Image Coordinates:[0.16671757 0.31987876 0.23432626 0.50335705]\n",
      "\n"
     ]
    },
    {
     "data": {
      "image/jpeg": "[encoded data removed]",
      "text/plain": [
       "<IPython.core.display.Image object>"
      ]
     },
     "metadata": {},
     "output_type": "display_data"
    },
    {
     "name": "stdout",
     "output_type": "stream",
     "text": [
      "\n",
      "Estimated Age: 22\n",
      "Estimated Gender: female\n",
      "Estimated Emotion: happy\n",
      "Original Image Coordinates:[0.7956609  0.386524   0.85938865 0.5990172 ]\n",
      "\n"
     ]
    },
    {
     "data": {
      "image/jpeg": "[encoded data removed]",
      "text/plain": [
       "<IPython.core.display.Image object>"
      ]
     },
     "metadata": {},
     "output_type": "display_data"
    },
    {
     "name": "stdout",
     "output_type": "stream",
     "text": [
      "\n",
      "Estimated Age: 32\n",
      "Estimated Gender: male\n",
      "Estimated Emotion: happy\n",
      "Original Image Coordinates:[0.5632465  0.37932324 0.61377335 0.57810456]\n",
      "\n"
     ]
    },
    {
     "data": {
      "image/jpeg": "[encoded data removed]",
      "text/plain": [
       "<IPython.core.display.Image object>"
      ]
     },
     "metadata": {},
     "output_type": "display_data"
    },
    {
     "name": "stdout",
     "output_type": "stream",
     "text": [
      "\n",
      "Estimated Age: 21\n",
      "Estimated Gender: female\n",
      "Estimated Emotion: happy\n",
      "Original Image Coordinates:[0.9035787  0.31419483 0.9603891  0.52992076]\n",
      "\n"
     ]
    }
   ],
   "source": [
    "print('\\nFound', len(people), 'faces:\\n')\n",
    "for num, person in enumerate(people):\n",
    "    display(Image(images[num]))\n",
    "    print(f\"\"\"\n",
    "Estimated Age: {person['age']}\n",
    "Estimated Gender: {person['gender']}\n",
    "Estimated Emotion: {person['emotion']}\n",
    "Original Image Coordinates:{person['coordinate']}\\n\"\"\")"
   ]
  },
  {
   "cell_type": "markdown",
   "id": "99576a46",
   "metadata": {},
   "source": [
    "## Cleanup\n",
    "\n",
    "Let's free up resources."
   ]
  },
  {
   "cell_type": "code",
   "execution_count": 35,
   "id": "77ed5400",
   "metadata": {},
   "outputs": [
    {
     "name": "stdout",
     "output_type": "stream",
     "text": [
      "ovms.intel.com \"ovms-pipeline\" deleted\n",
      "deployment.apps \"minio\" deleted\n",
      "service \"minio-service\" deleted\n",
      "configmap \"ovms-face-detection-pipeline\" deleted\n"
     ]
    }
   ],
   "source": [
    "!oc delete ovms ovms-pipeline\n",
    "!oc delete deploy minio\n",
    "!oc delete service minio-service\n",
    "!oc delete configmap ovms-face-detection-pipeline"
   ]
  },
  {
   "cell_type": "code",
   "execution_count": 36,
   "id": "ad6fe4fa",
   "metadata": {},
   "outputs": [
    {
     "name": "stdout",
     "output_type": "stream",
     "text": [
      "E0512 16:36:11.541914476   11783 backup_poller.cc:133]       Run client channel backup poller: {\"created\":\"@1620837371.541887269\",\"description\":\"pollset_work\",\"file\":\"src/core/lib/iomgr/ev_epollex_linux.cc\",\"file_line\":321,\"referenced_errors\":[{\"created\":\"@1620837371.541886155\",\"description\":\"Bad file descriptor\",\"errno\":9,\"file\":\"src/core/lib/iomgr/ev_epollex_linux.cc\",\"file_line\":948,\"os_error\":\"Bad file descriptor\",\"syscall\":\"epoll_wait\"}]}\n",
      "E0512 16:36:12.541738498   11799 ev_epollex_linux.cc:1365]   pollset_set_add_fd: {\"created\":\"@1620837372.541698898\",\"description\":\"pollset_set_add_fd\",\"file\":\"src/core/lib/iomgr/ev_epollex_linux.cc\",\"file_line\":321,\"referenced_errors\":[{\"created\":\"@1620837372.541698058\",\"description\":\"pollable_add_fd\",\"file\":\"src/core/lib/iomgr/ev_epollex_linux.cc\",\"file_line\":321,\"referenced_errors\":[{\"created\":\"@1620837372.541696844\",\"description\":\"Bad file descriptor\",\"errno\":9,\"file\":\"src/core/lib/iomgr/ev_epollex_linux.cc\",\"file_line\":631,\"os_error\":\"Bad file descriptor\",\"syscall\":\"epoll_ctl\"}]},{\"created\":\"@1620837372.541703409\",\"description\":\"pollable_add_fd\",\"file\":\"src/core/lib/iomgr/ev_epollex_linux.cc\",\"file_line\":321,\"referenced_errors\":[{\"created\":\"@1620837372.541700230\",\"description\":\"Bad file descriptor\",\"errno\":9,\"file\":\"src/core/lib/iomgr/ev_epollex_linux.cc\",\"file_line\":631,\"os_error\":\"Bad file descriptor\",\"syscall\":\"epoll_ctl\"}]}]}\n",
      "E0512 16:36:12.541795328   11799 ev_epollex_linux.cc:516]    Error shutting down fd 50. errno: 9\n",
      "E0512 16:36:13.541769447   11815 ev_epollex_linux.cc:1365]   pollset_set_add_fd: {\"created\":\"@1620837373.541729203\",\"description\":\"pollset_set_add_fd\",\"file\":\"src/core/lib/iomgr/ev_epollex_linux.cc\",\"file_line\":321,\"referenced_errors\":[{\"created\":\"@1620837373.541728448\",\"description\":\"pollable_add_fd\",\"file\":\"src/core/lib/iomgr/ev_epollex_linux.cc\",\"file_line\":321,\"referenced_errors\":[{\"created\":\"@1620837373.541727009\",\"description\":\"Bad file descriptor\",\"errno\":9,\"file\":\"src/core/lib/iomgr/ev_epollex_linux.cc\",\"file_line\":631,\"os_error\":\"Bad file descriptor\",\"syscall\":\"epoll_ctl\"}]},{\"created\":\"@1620837373.541733125\",\"description\":\"pollable_add_fd\",\"file\":\"src/core/lib/iomgr/ev_epollex_linux.cc\",\"file_line\":321,\"referenced_errors\":[{\"created\":\"@1620837373.541730440\",\"description\":\"Bad file descriptor\",\"errno\":9,\"file\":\"src/core/lib/iomgr/ev_epollex_linux.cc\",\"file_line\":631,\"os_error\":\"Bad file descriptor\",\"syscall\":\"epoll_ctl\"}]}]}\n",
      "E0512 16:36:13.541826983   11815 ev_epollex_linux.cc:516]    Error shutting down fd 50. errno: 9\n"
     ]
    }
   ],
   "source": [
    "!rm -rf age-gender\n",
    "!rm -rf emotions\n",
    "!rm -rf face-detection\n",
    "!rm -rf python\n",
    "!rm -rf opencv\n",
    "!rm -rf model_server\n",
    "!rm mc\n",
    "!rm face_images_*"
   ]
  },
  {
   "cell_type": "markdown",
   "id": "77e6c19f",
   "metadata": {},
   "source": [
    "## Next Steps\n",
    "\n",
    "In this notebook, you have learned how to deploy an OVMS service with multiple models in an OpenShift cluster. Next, you can explore other OVMS notebooks:\n",
    "\n",
    "- [Deploy Image Classification with OpenVINO Model Server in OpenShift](../401-model-serving-openshift-resnet/ovms-openshift-resnet.ipynb)\n",
    "- [Send gRPC and API Calls via Python Scripts to OpenVINO Model Server in OpenShift](../402-model-serving-openshift-python-scripts/ovms-openshift-python-scripts.ipynb)\n"
   ]
  }
 ],
 "metadata": {
  "kernelspec": {
   "display_name": "Python 3",
   "language": "python",
   "name": "python3"
  },
  "language_info": {
   "codemirror_mode": {
    "name": "ipython",
    "version": 3
   },
   "file_extension": ".py",
   "mimetype": "text/x-python",
   "name": "python",
   "nbconvert_exporter": "python",
   "pygments_lexer": "ipython3",
   "version": "3.8.3"
  }
 },
 "nbformat": 4,
 "nbformat_minor": 5
}
